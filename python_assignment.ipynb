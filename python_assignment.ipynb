{
 "cells": [
  {
   "cell_type": "markdown",
   "id": "bdd701f6-333c-4933-8c9e-d49dfb433f9f",
   "metadata": {},
   "source": [
    "<h1 style = \"text-align: center; color: blue;\"> Python assignment </h1>"
   ]
  },
  {
   "cell_type": "markdown",
   "id": "917952a3-fb2c-430f-83cc-f49949b4c683",
   "metadata": {
    "jp-MarkdownHeadingCollapsed": true
   },
   "source": [
    "<h3>1). Declare two variables, num1 and num2, with any integer values. Use these to calculate their sum and print the result. Understand how variables store numerical values and perform basic arithmetic in Python.</h3>"
   ]
  },
  {
   "cell_type": "code",
   "execution_count": 1,
   "id": "648cf5a8-5061-4fdf-8065-a110b7787ee6",
   "metadata": {},
   "outputs": [
    {
     "name": "stdout",
     "output_type": "stream",
     "text": [
      "10\n"
     ]
    }
   ],
   "source": [
    "num1 = num2 = 5\n",
    "sum = num1 + num2\n",
    "print(sum)"
   ]
  },
  {
   "cell_type": "markdown",
   "id": "dc01630a-dfd7-4067-b530-cebae8487101",
   "metadata": {
    "jp-MarkdownHeadingCollapsed": true
   },
   "source": [
    "<h3>2). Create a variable called message and give it a string value. Append the string \" World!\" to it and print the updated message. Explore basic string operations in Python.</h3>"
   ]
  },
  {
   "cell_type": "code",
   "execution_count": 2,
   "id": "833e11b8-433c-4c8f-8fd2-3e080aaad84a",
   "metadata": {},
   "outputs": [
    {
     "name": "stdout",
     "output_type": "stream",
     "text": [
      "say hello to the World!\n"
     ]
    }
   ],
   "source": [
    "message = \"say hello to the \"\n",
    "updated_message = message + \"World!\"\n",
    "print(updated_message)"
   ]
  },
  {
   "cell_type": "markdown",
   "id": "7140158b-eda5-4545-bf72-98411afb288c",
   "metadata": {
    "jp-MarkdownHeadingCollapsed": true
   },
   "source": [
    "<h3>3). Declare a variable, is_python_fun, and assign it a boolean value. Print a statement based on whether Python is considered fun. Learn to use boolean variables for decision-making in Python.</h3>"
   ]
  },
  {
   "cell_type": "code",
   "execution_count": 4,
   "id": "8ed4675a-011b-40c0-9966-953b0c2c0408",
   "metadata": {},
   "outputs": [
    {
     "name": "stdout",
     "output_type": "stream",
     "text": [
      "Maybe Python is not fun because it is slow. But you can async programming to make it fast but still not that fast.\n"
     ]
    }
   ],
   "source": [
    "is_python_fun = False\n",
    "\n",
    "if is_python_fun:\n",
    "  print(\"Python is fun!\")\n",
    "else:\n",
    "  print(\"Maybe Python is not fun because it is slow. But you can async programming to make it fast but still not that fast.\")"
   ]
  },
  {
   "cell_type": "markdown",
   "id": "bea9bdc2-0f7e-4b70-adca-72f5ccdb0ce2",
   "metadata": {
    "jp-MarkdownHeadingCollapsed": true
   },
   "source": [
    "<h3>4). Create a list called fruits with at least three different fruit names. Print the list, add a new fruit, and then print the updated list.</h3>"
   ]
  },
  {
   "cell_type": "code",
   "execution_count": 5,
   "id": "af33cb14-44c1-470a-8c70-9265cd56ac92",
   "metadata": {},
   "outputs": [
    {
     "name": "stdout",
     "output_type": "stream",
     "text": [
      "['orange', 'mango', 'apple']\n",
      "['orange', 'mango', 'apple', 'watermelon']\n"
     ]
    }
   ],
   "source": [
    "fruits = [\"orange\",\n",
    "         \"mango\",\n",
    "         \"apple\"]\n",
    "print(fruits)\n",
    "fruits.append(\"watermelon\")\n",
    "print(fruits)"
   ]
  },
  {
   "cell_type": "markdown",
   "id": "4ec2b262-a613-40a3-9b4a-2934565bf3bf",
   "metadata": {
    "jp-MarkdownHeadingCollapsed": true
   },
   "source": [
    "<h3>5). Declare a variable called price with a floating-point value. Convert it to an integer and print both the original and converted values.</h3>\n"
   ]
  },
  {
   "cell_type": "code",
   "execution_count": 2,
   "id": "564a93e4-c91d-4d8b-b331-d4ab38e9987d",
   "metadata": {},
   "outputs": [
    {
     "name": "stdout",
     "output_type": "stream",
     "text": [
      "120.5\n",
      "120\n"
     ]
    }
   ],
   "source": [
    "price = 120.5\n",
    "print(price)\n",
    "price_int = int(price)\n",
    "print(price_int)"
   ]
  },
  {
   "cell_type": "markdown",
   "id": "e37012ce-dad0-4e0c-8b9c-ac2da2c225a5",
   "metadata": {
    "jp-MarkdownHeadingCollapsed": true
   },
   "source": [
    "<h3>6). Create a dictionary named student_info with keys for 'name', 'age', and 'grade'. Assign corresponding values and print the dictionary.</h3>"
   ]
  },
  {
   "cell_type": "code",
   "execution_count": 4,
   "id": "0b669e7b-0475-46d4-9364-488727bff409",
   "metadata": {},
   "outputs": [
    {
     "name": "stdout",
     "output_type": "stream",
     "text": [
      "{'name': 'hamza', 'age': 18, 'grade': 'D'}\n"
     ]
    }
   ],
   "source": [
    "student_info = {\"name\" : \"hamza\",\n",
    "               \"age\" : 18,\n",
    "               \"grade\" : \"D\"}\n",
    "print(student_info)"
   ]
  },
  {
   "cell_type": "markdown",
   "id": "dc54ceec-fcee-459d-8d2c-f77b9783835d",
   "metadata": {
    "jp-MarkdownHeadingCollapsed": true
   },
   "source": [
    "<h3>7). Write a program that takes user input for their age and prints a message addressing their age group (e.g., \"Teenager,\" \"Adult\"). Explore user interaction and conditional statements in Python.</h3>"
   ]
  },
  {
   "cell_type": "code",
   "execution_count": 25,
   "id": "d9e28197-5da6-4fff-af5a-60bdf87e70ca",
   "metadata": {},
   "outputs": [
    {
     "name": "stdin",
     "output_type": "stream",
     "text": [
      "enter your age:  019\n"
     ]
    },
    {
     "name": "stdout",
     "output_type": "stream",
     "text": [
      "teenager\n"
     ]
    }
   ],
   "source": [
    "user_age = input(\"enter your age: \")\n",
    "if user_age.isnumeric():\n",
    "    user_age = int(user_age)\n",
    "    if user_age <=12:\n",
    "        print(\"childhood\")\n",
    "    elif user_age >=13 and user_age <= 19:\n",
    "        print(\"teenager\")\n",
    "    else:\n",
    "        print(\"adult\")\n",
    "else:\n",
    "    print(\"input error (only integer allowed)\")\n"
   ]
  },
  {
   "cell_type": "markdown",
   "id": "447b3f3e-a69b-4404-a576-e47afcdfa67c",
   "metadata": {
    "jp-MarkdownHeadingCollapsed": true
   },
   "source": [
    "<h3>8). Create a complex number variable, comp_num, with real and imaginary parts. Print both parts separately.</h3>"
   ]
  },
  {
   "cell_type": "code",
   "execution_count": 28,
   "id": "47429dc2-376e-47ab-8066-8711d164ef3c",
   "metadata": {},
   "outputs": [
    {
     "name": "stdout",
     "output_type": "stream",
     "text": [
      "real part :  5.0\n",
      "imaginary part :  4.0\n"
     ]
    }
   ],
   "source": [
    "comp_num = complex(5,4)\n",
    "print(\"real part : \",comp_num.real)\n",
    "print(\"imaginary part : \",comp_num.imag)"
   ]
  },
  {
   "cell_type": "markdown",
   "id": "bc9e8227-bc8a-4bd6-8e18-c9dd28d22b88",
   "metadata": {
    "jp-MarkdownHeadingCollapsed": true
   },
   "source": [
    "<h3>9). Combine two strings using concatenation. Use string interpolation to include the length of the resulting string in a print statement.</h3>"
   ]
  },
  {
   "cell_type": "code",
   "execution_count": 31,
   "id": "4cadf2d9-2c81-486e-879d-ef10fa32e2ee",
   "metadata": {},
   "outputs": [
    {
     "name": "stdout",
     "output_type": "stream",
     "text": [
      "hello world!\n"
     ]
    }
   ],
   "source": [
    "string_1 = \"hello\"\n",
    "string_2 = \"world!\"\n",
    "final_string = string_1 + \" \" + string_2\n",
    "print(final_string)"
   ]
  },
  {
   "cell_type": "markdown",
   "id": "b37cc69f-4397-4430-b04d-230d9053f8b2",
   "metadata": {
    "jp-MarkdownHeadingCollapsed": true
   },
   "source": [
    "<h3>10). Create a tuple named days_of_week with the names of the days. Access and print the third day of the week.</h3>"
   ]
  },
  {
   "cell_type": "code",
   "execution_count": 32,
   "id": "4d6d7a95-a4e5-4463-bd78-be8eb448f599",
   "metadata": {},
   "outputs": [
    {
     "name": "stdout",
     "output_type": "stream",
     "text": [
      "Wednesday\n"
     ]
    }
   ],
   "source": [
    "days_of_week = (\"Monday\",\n",
    "                \"Tuesday\",\n",
    "                \"Wednesday\",\n",
    "                \"Thursday\",\n",
    "                \"Friday\",\n",
    "                \"Saturday\",\n",
    "                \"Sunday\")\n",
    "print(days_of_week[2])"
   ]
  }
 ],
 "metadata": {
  "kernelspec": {
   "display_name": "Python 3 (ipykernel)",
   "language": "python",
   "name": "python3"
  },
  "language_info": {
   "codemirror_mode": {
    "name": "ipython",
    "version": 3
   },
   "file_extension": ".py",
   "mimetype": "text/x-python",
   "name": "python",
   "nbconvert_exporter": "python",
   "pygments_lexer": "ipython3",
   "version": "3.11.7"
  }
 },
 "nbformat": 4,
 "nbformat_minor": 5
}
